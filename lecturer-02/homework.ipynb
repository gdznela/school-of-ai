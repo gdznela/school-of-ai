{
 "cells": [
  {
   "cell_type": "markdown",
   "metadata": {},
   "source": [
    "1. Prof that $A \\subseteq A$"
   ]
  },
  {
   "cell_type": "markdown",
   "metadata": {},
   "source": [
    "$\\forall x : (x \\in A \\implies x \\in A )$             Identity law"
   ]
  },
  {
   "cell_type": "markdown",
   "metadata": {},
   "source": [
    "$A \\subseteq A$ ქვესიმრვალის განსაზღვრება"
   ]
  },
  {
   "cell_type": "markdown",
   "metadata": {},
   "source": [
    "$\\blacksquare$"
   ]
  },
  {
   "cell_type": "markdown",
   "metadata": {},
   "source": [
    "2. Empty set a $\\emptyset$ is a set without elements at all and which is contained in any set $\\emptyset \\subseteq A$ for any $A \\in Set$ so $\\emptyset$ is the \"smallest\" set (Proof it)"
   ]
  },
  {
   "cell_type": "markdown",
   "metadata": {},
   "source": [
    "დავამტკიცოთ საპირისპიროდან (contradiction):"
   ]
  },
  {
   "cell_type": "markdown",
   "metadata": {},
   "source": [
    "დავუშვათ: $\\exists A \\in Set : (\\emptyset \\not\\subseteq A)$"
   ]
  },
  {
   "cell_type": "markdown",
   "metadata": {},
   "source": [
    "მაშინ $\\exists x: (x \\in \\emptyset, x \\not\\in A)$ \n",
    "ეწინააღმდეგება ცარიელი სიმრავლის განსაზღვრებას რადგან ცარიელი სიმრავლეში არ შეიძლება იყოს ელემენტები"
   ]
  },
  {
   "cell_type": "markdown",
   "metadata": {},
   "source": [
    "$\\blacksquare$"
   ]
  },
  {
   "cell_type": "markdown",
   "metadata": {},
   "source": [
    "3. Give an exmaples of two sets $A$ and $B$ for which $A \\cap B = \\emptyset$"
   ]
  },
  {
   "cell_type": "code",
   "execution_count": 1,
   "metadata": {},
   "outputs": [
    {
     "name": "stdout",
     "output_type": "stream",
     "text": [
      "set()\n"
     ]
    }
   ],
   "source": [
    "A = {1, 2, 3}\n",
    "B = {10, 12}\n",
    "print(A.intersection(B))"
   ]
  },
  {
   "cell_type": "code",
   "execution_count": 2,
   "metadata": {},
   "outputs": [
    {
     "name": "stdout",
     "output_type": "stream",
     "text": [
      "set()\n"
     ]
    }
   ],
   "source": [
    "C = {1, 2, 3}\n",
    "D = set()\n",
    "print(C.intersection(D))"
   ]
  },
  {
   "cell_type": "code",
   "execution_count": 3,
   "metadata": {},
   "outputs": [
    {
     "name": "stdout",
     "output_type": "stream",
     "text": [
      "set()\n"
     ]
    }
   ],
   "source": [
    "E = set()\n",
    "F = set()\n",
    "print(E.intersection(F))"
   ]
  },
  {
   "cell_type": "markdown",
   "metadata": {},
   "source": [
    "4. Prove that if $B \\subset A$ then $A \\cap B = B$   TODO"
   ]
  },
  {
   "cell_type": "markdown",
   "metadata": {},
   "source": [
    "5. Prove that $A \\cap B = B \\cap A$"
   ]
  },
  {
   "cell_type": "markdown",
   "metadata": {},
   "source": [
    "$ x \\in A \\cap B \\iff x \\in A \\land x \\in B$"
   ]
  },
  {
   "cell_type": "markdown",
   "metadata": {},
   "source": [
    "$a \\land b \\iff b \\land a$"
   ]
  },
  {
   "cell_type": "markdown",
   "metadata": {},
   "source": [
    "$ x \\in A \\cap B \\implies x \\in B \\land x \\in A$"
   ]
  },
  {
   "cell_type": "markdown",
   "metadata": {},
   "source": [
    "$B \\cap A \\iff { x: x \\in B \\land x \\in A }$ გადაკვეთის განსაზღვრება"
   ]
  },
  {
   "cell_type": "markdown",
   "metadata": {},
   "source": [
    "$x \\in B \\cap A$"
   ]
  },
  {
   "cell_type": "markdown",
   "metadata": {},
   "source": [
    "$\\blacksquare$"
   ]
  },
  {
   "cell_type": "markdown",
   "metadata": {},
   "source": [
    "6. Prove that if $B \\subset A$ then $A \\cup B = A$   TODO"
   ]
  },
  {
   "cell_type": "markdown",
   "metadata": {},
   "source": [
    "7. Prove that $A \\cup B = B \\cup A$"
   ]
  },
  {
   "cell_type": "markdown",
   "metadata": {},
   "source": [
    "$ x \\in A \\cup B \\iff x \\in A \\lor  x \\in B$"
   ]
  },
  {
   "cell_type": "markdown",
   "metadata": {},
   "source": [
    "$a \\lor b \\iff b \\lor a$"
   ]
  },
  {
   "cell_type": "markdown",
   "metadata": {},
   "source": [
    "$ x \\in A \\cup B \\implies x \\in B \\lor x \\in A$"
   ]
  },
  {
   "cell_type": "markdown",
   "metadata": {},
   "source": [
    "$B \\cap A \\iff { x: x \\in B \\lor x \\in A }$ გაერთიანების განსაზღვრება"
   ]
  },
  {
   "cell_type": "markdown",
   "metadata": {},
   "source": [
    "$x \\in B \\cup A$"
   ]
  },
  {
   "cell_type": "markdown",
   "metadata": {},
   "source": [
    "$\\blacksquare$"
   ]
  },
  {
   "cell_type": "markdown",
   "metadata": {},
   "source": [
    "8. AxBxC=?"
   ]
  },
  {
   "cell_type": "code",
   "execution_count": 4,
   "metadata": {},
   "outputs": [
    {
     "data": {
      "text/plain": [
       "{(1, 4, 8),\n",
       " (1, 4, 9),\n",
       " (1, 5, 8),\n",
       " (1, 5, 9),\n",
       " (2, 4, 8),\n",
       " (2, 4, 9),\n",
       " (2, 5, 8),\n",
       " (2, 5, 9),\n",
       " (3, 4, 8),\n",
       " (3, 4, 9),\n",
       " (3, 5, 8),\n",
       " (3, 5, 9)}"
      ]
     },
     "execution_count": 4,
     "metadata": {},
     "output_type": "execute_result"
    }
   ],
   "source": [
    "A = {1, 2, 3}\n",
    "B = {4, 5}\n",
    "C = {8, 9}\n",
    "{ (a, b, c) for a in A for b in B for c in C}"
   ]
  },
  {
   "cell_type": "markdown",
   "metadata": {},
   "source": [
    "9. delta (diagonal)"
   ]
  },
  {
   "cell_type": "code",
   "execution_count": 5,
   "metadata": {},
   "outputs": [
    {
     "data": {
      "text/plain": [
       "{(1, 1), (2, 2), (3, 3)}"
      ]
     },
     "execution_count": 5,
     "metadata": {},
     "output_type": "execute_result"
    }
   ],
   "source": [
    "{ (a, a) for a in A}"
   ]
  },
  {
   "cell_type": "markdown",
   "metadata": {},
   "source": [
    "10 . Prove that:\n",
    "- 10.1.1, 10.1.2 for every injection $m:A \\to B$ and pair of functions $f, g :C \\to A$: if $m \\circ f = m \\circ g$ then $f = g$ and vice-versa\n",
    "- 10.2.1, 10.2.2 for every surjection $e:A \\to B$ and every pair of functions $f, g :B \\to C$: if $f \\circ e = g \\circ e$ then $f = g$ and vice-versa"
   ]
  },
  {
   "cell_type": "markdown",
   "metadata": {},
   "source": [
    "10.1.1 დავამტკიცოთ საწინააღეგოდან, დავუშვათ $f \\neq g$<br>\n",
    "\n",
    "$\\exists (c,a, a'): c \\in C, a \\in A, f(c) = a, g(c) = a', a \\neq a'$\n",
    "<br>\n",
    "$m \\circ f = m \\circ g$\n",
    "<br>\n",
    "$m(a) = m(a')$\n",
    "<br>\n",
    "$a = a'$ injection-ის განსაზღვრებიდან გამომდინარე, რაც ეწინააღმდეგება ჩვენს დაშვებას\n",
    "<br>\n",
    "$\\blacksquare$"
   ]
  },
  {
   "cell_type": "markdown",
   "metadata": {},
   "source": [
    "10.1.2 დავამტკიცოთ საწინააღმდეგოდან, დავუშვათ $m \\circ f \\neq m \\circ g$:\n",
    "<br>\n",
    "$\\exists (c,a, a', b, b'): c \\in C, a \\in A, f(c) = a, g(c) = a', m(a)=b, m(a')=b', b \\neq b'$\n",
    "<br>\n",
    "$f=g \\implies f(c) = g(c)$\n",
    "<br>\n",
    "$a = a' \\implies m(a)=m(a')$ mapping-ის განსაზღვრებიდან გამომდინარე\n",
    "<br>\n",
    "$b=b'$ რაც ეწინააღმდეგება ჩვენს დაშვებას\n",
    "<br>\n",
    "$\\blacksquare$"
   ]
  },
  {
   "cell_type": "markdown",
   "metadata": {},
   "source": [
    "10.2.1 დავამტკიცოთ საწინააღეგოდან, დავუშვათ $f \\neq g$<br>\n",
    "\n",
    "$\\exists (a,b,c,c'): a \\in A, b \\in B, c \\in C, e(a)=b, f(b) = c, g(b) = c', c \\neq c'$\n",
    "<br>\n",
    "$f \\circ e = g \\circ e$\n",
    "<br>\n",
    "$f(e(a)) = g(e(a))$\n",
    "<br>\n",
    "$f(b) = g(b)$\n",
    "<br>\n",
    "$c = c'$ რაც ეწინააღმდეგება ჩვენს დაშვებას\n",
    "<br>\n",
    "$\\blacksquare$"
   ]
  },
  {
   "cell_type": "markdown",
   "metadata": {},
   "source": [
    "10.2.2 დავამტკიცოთ საწინააღეგოდან, დავუშვათ $f \\circ e \\neq g \\circ e$<br>\n",
    "\n",
    "$\\exists (a,b,c,c'): a \\in A, b \\in B, c \\in C, e(a)=b, f(b) = c, g(b) = c', c \\neq c'$\n",
    "<br>\n",
    "$f = g \\implies f(b) = g(b)$ mapping-ის განსაზღვრებიდან გამომდინარე\n",
    "<br>\n",
    "$c = c'$ რაც ეწინააღმდეგება ჩვენს დაშვებას\n",
    "<br>\n",
    "$\\blacksquare$"
   ]
  },
  {
   "cell_type": "markdown",
   "metadata": {},
   "source": [
    "11 . Prooof that\n",
    "- 11. 1 composition of injections is injection itself\n",
    "- 11. 2 composition of surjections is surjection itself\n",
    "- 11. 3 composition of bijections is bijection itself\n",
    "<br>\n",
    "or give a counterexamples"
   ]
  },
  {
   "cell_type": "markdown",
   "metadata": {},
   "source": [
    "11. 1დავუშვათ $f, g$ სიურეკციებია\n",
    "<br>\n",
    "$f \\circ g(a) = f \\circ g(b)$\n",
    "<br>\n",
    "$f(g(a)) = f(g(b))$\n",
    "<br>\n",
    "$g(a) = g(b)$ რადგან f ინეკციაა\n",
    "<br>\n",
    "$a = b$ რადგან g ინეკციაა\n",
    "<br>\n",
    "$\\blacksquare$"
   ]
  },
  {
   "cell_type": "markdown",
   "metadata": {},
   "source": [
    "11.2 დავუშვათ $f : A \\to B, g: B \\to C$ სიურეკციებია\n",
    "<br>\n",
    "$\\exists c \\in C: \\exists b \\in B: g(b) = c$ სიურექციის გნსაზღვრება\n",
    "<br>\n",
    "$\\exists a \\in A: f(a) = b$ სიურეკციის განსაზღვრება\n",
    "<br>\n",
    "$g \\circ f(a) = g(f(a)) = g(b) = c$\n",
    "<br>\n",
    "$\\blacksquare$"
   ]
  },
  {
   "cell_type": "markdown",
   "metadata": {},
   "source": [
    "11. 3 დავუშვათ f და g ბიექციებია. ბიექციის გასაზღვრიდან გამომდინარე f და g ასევე ინექციებია და სურექციები. რადგან ინექციიების კომპოზიცია ინექციაა და ასევე სურექციების კომპოზიცია სურეკციაა $f\\circ g$ ერთდროულად ინექციაცაა და სურექციაც, რაც ნიშნავს რომ ბიექციაა\n",
    "<br>\n",
    "$\\blacksquare$"
   ]
  },
  {
   "cell_type": "markdown",
   "metadata": {},
   "source": [
    "12 . Proove that for each set $A$:\n",
    "- 12 .1$A \\cong A$\n",
    "- 12. 2iff $A \\cong B$ then $B \\cong A$ for every pair of sets $A$ and $B$\n",
    "- 12. 3if $A \\cong B$ and $B \\cong C$ then $A \\cong C$ for every triplet $A$, $B$ and $C$"
   ]
  },
  {
   "cell_type": "markdown",
   "metadata": {},
   "source": [
    "12. 1 \n",
    "$I_S: A \\to A$ არის ბიექცია (Identity mapping), რადგან ბიექცია არსებობს შესაბამისად:\n",
    "<br>\n",
    "$A \\cong A$\n",
    "<br>\n",
    "$\\blacksquare$"
   ]
  },
  {
   "cell_type": "markdown",
   "metadata": {},
   "source": [
    "12. 2 \n",
    "$A \\cong B \\implies \\exists \\phi : A \\to B$ სადაც $\\phi$ ბიექციაა, ესეიგი:\n",
    "<br>\n",
    "$ \\exists \\phi^{-1}: B \\to A$ \n",
    "<br>ბიექციის თვისებიდან გამომდინარე: inverse bijections is bijection itself\n",
    "<br>\n",
    "$B \\cong A$\n",
    "<br>\n",
    "$\\blacksquare$"
   ]
  },
  {
   "cell_type": "markdown",
   "metadata": {},
   "source": [
    "12.3 $A \\cong B$ and $B \\cong C$\n",
    "<br>\n",
    "$\\exists \\phi_1: A \\to B \\land \\exists \\phi_2: B \\to C$ სადაც $\\phi_1, \\phi_2$ ბიექციებია\n",
    "<br>\n",
    "$\\phi_1 \\circ \\phi_2 : A \\to C$\n",
    "<br>\n",
    "$\\phi_1 \\circ \\phi_2$ ბიექციაა, რადგან ბიექციების კომპოზიცია ასევე ბიექციაა\n",
    "<br>\n",
    "$A \\cong C$ ეკვივალენტურობის განსაზღრებიდან გამომდინარე (არსებობს ბიექცია A-ს და C-ს შორის)\n",
    "<br>\n",
    "$\\blacksquare$"
   ]
  },
  {
   "cell_type": "markdown",
   "metadata": {},
   "source": [
    "13 Prove that $A \\times B \\cong B \\times A$ TODO"
   ]
  },
  {
   "cell_type": "markdown",
   "metadata": {},
   "source": [
    "14.  $\\cap_{i\\in I}A_i$ and $\\cup_{i\\in I}A_i$\n",
    "implement in python"
   ]
  },
  {
   "cell_type": "code",
   "execution_count": 9,
   "metadata": {},
   "outputs": [
    {
     "name": "stdout",
     "output_type": "stream",
     "text": [
      "{1}\n",
      "{1, 2, 3}\n"
     ]
    }
   ],
   "source": [
    "def intersect_many(set1, *sets):\n",
    "    result = set1.intersection(*sets)\n",
    "    return result\n",
    "\n",
    "def union_many(set1, *sets):\n",
    "    result = set1.union(*sets)\n",
    "    return result\n",
    "print(intersect_many({1, 2, 3}, {1, 3}, {1, 2}))\n",
    "print(union_many({1, 2, 3}, {1, 3}, {1, 2}))"
   ]
  },
  {
   "cell_type": "markdown",
   "metadata": {},
   "source": [
    "15. We can also define cartesian product of any \"number\" of sets $\\prod_{i \\in I}{A_i}$\n",
    "implement in python\n"
   ]
  },
  {
   "cell_type": "code",
   "execution_count": 2,
   "metadata": {
    "scrolled": true
   },
   "outputs": [
    {
     "data": {
      "text/plain": [
       "[(1, 4, 8),\n",
       " (1, 4, 7),\n",
       " (1, 5, 8),\n",
       " (1, 5, 7),\n",
       " (1, 6, 8),\n",
       " (1, 6, 7),\n",
       " (2, 4, 8),\n",
       " (2, 4, 7),\n",
       " (2, 5, 8),\n",
       " (2, 5, 7),\n",
       " (2, 6, 8),\n",
       " (2, 6, 7),\n",
       " (3, 4, 8),\n",
       " (3, 4, 7),\n",
       " (3, 5, 8),\n",
       " (3, 5, 7),\n",
       " (3, 6, 8),\n",
       " (3, 6, 7)]"
      ]
     },
     "execution_count": 2,
     "metadata": {},
     "output_type": "execute_result"
    }
   ],
   "source": [
    "from itertools import product\n",
    "\n",
    "list(product({1, 2, 3}, {4, 5, 6}, {7, 8}))"
   ]
  },
  {
   "cell_type": "markdown",
   "metadata": {},
   "source": [
    "16. Prove that: TODO\n",
    " $$A \\cap (B \\cup C)=(A \\cap B) \\cup (A\\cap C)$$\n",
    " $$A \\cup (B \\cap C)=(A \\cup B) \\cap (A\\cup C)$$"
   ]
  },
  {
   "cell_type": "markdown",
   "metadata": {},
   "source": [
    "16. Prove that $a + X = X + a$ and $aX = Xa$ for every scalar $a \\in \\mathbb{R}$ and matrix $X \\in \\mathbb{R}^{n \\times m}$"
   ]
  },
  {
   "cell_type": "markdown",
   "metadata": {},
   "source": [
    "16. 1 $X = \\begin{pmatrix} X_{11} && ... && X_{1n} \\\\\n",
    "... && ... && ... \\\\\n",
    "X_{m1} && ... && X_{mn}\n",
    "\\end{pmatrix}$\n",
    "<br>\n",
    "$C = aX = \\begin{pmatrix} aX_{11} && ... && aX_{1n} \\\\\n",
    "... && ... && ... \\\\\n",
    "aX_{m1} && ... && aX_{mn}\n",
    "\\end{pmatrix}$\n",
    "<br>\n",
    "$C' = Xa = \\begin{pmatrix} X_{11}a && ... && X_{1n}a \\\\\n",
    "... && ... && ... \\\\\n",
    "X_{m1}a && ... && X_{mn}a\n",
    "\\end{pmatrix}$\n",
    "<br>\n",
    "$C_{ij} =  aX_{ij}$\n",
    "<br>\n",
    "$C'_{ij}= X_{ij}a$\n",
    "<br>\n",
    "$aX_{ij} = X_{ij}a$ გამრავლების თვისება\n",
    "<br>\n",
    "$C = C'$\n",
    "<br>\n",
    "$\\blacksquare$"
   ]
  },
  {
   "cell_type": "markdown",
   "metadata": {},
   "source": [
    "16. 2 $X = \\begin{pmatrix} X_{11} && ... && X_{1n} \\\\\n",
    "... && ... && ... \\\\\n",
    "X_{m1} && ... && X_{mn}\n",
    "\\end{pmatrix}$\n",
    "<br>\n",
    "$C = a+X = \\begin{pmatrix} a+X_{11} && ... && a+X_{1n} \\\\\n",
    "... && ... && ... \\\\\n",
    "a+X_{m1} && ... && a+X_{mn}\n",
    "\\end{pmatrix}$\n",
    "<br>\n",
    "$C' = X+a = \\begin{pmatrix} X_{11}+a && ... && X_{1n}+a \\\\\n",
    "... && ... && ... \\\\\n",
    "X_{m1}+a && ... && X_{mn}+a\n",
    "\\end{pmatrix}$\n",
    "<br>\n",
    "$C_{ij} =  a+X_{ij}$\n",
    "<br>\n",
    "$C'_{ij}= X_{ij}+a$\n",
    "<br>\n",
    "$a+X_{ij} = X_{ij}+a$ შეკრების თვისება\n",
    "<br>\n",
    "$C = C'$\n",
    "<br>\n",
    "$\\blacksquare$"
   ]
  },
  {
   "cell_type": "markdown",
   "metadata": {},
   "source": [
    "17. Prove that $uv^{T} = vu^{T}$ for each $v, u \\in \\mathbb{R}^{n}$ TODO"
   ]
  },
  {
   "cell_type": "markdown",
   "metadata": {},
   "source": [
    "18. Prove that $(AB)^{T} = B^{T}A^{T}$ for each pair of matrices $A, B \\in \\mathbb{R}^{n \\times m}$ TODO"
   ]
  },
  {
   "cell_type": "markdown",
   "metadata": {},
   "source": [
    "19. XOR"
   ]
  },
  {
   "cell_type": "code",
   "execution_count": null,
   "metadata": {},
   "outputs": [],
   "source": []
  }
 ],
 "metadata": {
  "kernelspec": {
   "display_name": "Python 3",
   "language": "python",
   "name": "python3"
  },
  "language_info": {
   "codemirror_mode": {
    "name": "ipython",
    "version": 3
   },
   "file_extension": ".py",
   "mimetype": "text/x-python",
   "name": "python",
   "nbconvert_exporter": "python",
   "pygments_lexer": "ipython3",
   "version": "3.7.4"
  }
 },
 "nbformat": 4,
 "nbformat_minor": 2
}
